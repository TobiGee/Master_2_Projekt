{
 "cells": [
  {
   "cell_type": "markdown",
   "metadata": {},
   "source": [
    "# Übungsblatt 4"
   ]
  },
  {
   "cell_type": "code",
   "execution_count": 50,
   "metadata": {},
   "outputs": [],
   "source": [
    "import matplotlib.pyplot as plt\n",
    "import numpy as np\n",
    "import math"
   ]
  },
  {
   "cell_type": "code",
   "execution_count": 1,
   "metadata": {},
   "outputs": [],
   "source": [
    "#Die folgenden Funktionien dienen der Lösung des Aufgabenblattes\n",
    "#Bisektion\n",
    "def bisektion(f,a,b):\n",
    "    if f(a)*f(b)>0:\n",
    "        print(\"Kein Vorzeichenwechsel\")\n",
    "        return\n",
    "    while b-a>0.00001:\n",
    "        m=(a+b)/2\n",
    "        if f(m)*f(a)<=0:\n",
    "            b=m \n",
    "        if f(m)*f(b)<=0: \n",
    "            a=m\n",
    "    return (a+b)/2\n",
    "\n",
    "def ableitung(f,x):\n",
    "    h=0.00001\n",
    "    return (f(x+h)-f(x))/h #einseitiger Differenzenquotient\n",
    "\n",
    "# Newton\n",
    "def newton(f,x0, p):\n",
    "    while abs(f(x0))>p:\n",
    "        x0+=-f(x0)/ableitung(f,x0)\n",
    "    return x0\n",
    "\n",
    "def ableitung2(f,x):\n",
    "    h=0.00001\n",
    "    return (f(x+h)-f(x-h))/(2*h) #beidseitiger Differenzenquotient"
   ]
  },
  {
   "cell_type": "markdown",
   "metadata": {},
   "source": [
    "## Aufgabe 4.1 \n",
    "### Nullstellensuche I\n",
    "\n",
    "Finden Sie alle Lösungen der Gleichung $\\frac{1}{3}x^3 = 2x − 1$ im Intervall $[−10, 10]$.\n",
    "Schätzen Sie die Genauigkeit Ihrer Lösungen ab"
   ]
  },
  {
   "cell_type": "code",
   "execution_count": 29,
   "metadata": {},
   "outputs": [
    {
     "data": {
      "image/png": "[encoded data removed]",
      "text/plain": [
       "<Figure size 432x288 with 1 Axes>"
      ]
     },
     "metadata": {
      "needs_background": "light"
     },
     "output_type": "display_data"
    }
   ],
   "source": [
    "# Plot von -5 bis 5\n",
    "t = np.arange(-5.0, 5.0, 0.1)\n",
    "def fu(x): return 0.33333333333333*x*x*x - 2*x + 1\n",
    "#s = 0.33333333333333*x*x*x - 2*x + 1\n",
    "\n",
    "fig, ax = plt.subplots()\n",
    "ax.plot(t, fu(t))\n",
    "ax.set(xlabel='x', ylabel='y')\n",
    "ax.grid()\n",
    "plt.show()"
   ]
  },
  {
   "cell_type": "code",
   "execution_count": 28,
   "metadata": {},
   "outputs": [
    {
     "name": "stdout",
     "output_type": "stream",
     "text": [
      "Bisektionsnullstelle von f : x= -2.669078826904297\n",
      "Bisektionsnullstelle von f : x= 0.523979663848877\n",
      "Bisektionsnullstelle von f : x= 2.1450986862182617\n",
      "Newton: Nullstelle von f : x= -2.669079088282301\n",
      "Newton: Nullstelle von f : x= -2.669079088282301\n",
      "Newton: Nullstelle von f : x= 2.145102691200435\n"
     ]
    }
   ],
   "source": [
    "print(\"Bisektionsnullstelle von f : x=\",bisektion(fu,-4,-2))\n",
    "print(\"Bisektionsnullstelle von f : x=\",bisektion(fu,-2,1.5))\n",
    "print(\"Bisektionsnullstelle von f : x=\",bisektion(fu,1.5,4))\n",
    "print(\"Newton: Nullstelle von f : x=\",newton(fu,-4,0.00000000000001))\n",
    "print(\"Newton: Nullstelle von f : x=\",newton(fu,-2.5,0.00000000000001))\n",
    "print(\"Newton: Nullstelle von f : x=\",newton(fu,1.5,0.00000000000001))"
   ]
  },
  {
   "cell_type": "markdown",
   "metadata": {},
   "source": [
    "## Aufgabe 4.2 \n",
    "### Nullstellensuche II\n",
    "\n",
    "Bestimmen Sie für die folgenden Funktionen die Nullstellen $x_i$ zunächst exakt und untersuchen Sie\n",
    "dann für ’jede’ Nullstelle $x$, für welche $x_0$ das Newton-Verfahren gegen $x_i$ konvergiert. Wählen Sie\n",
    "dazu $x_0$ im Intervall $[−5, 5]$ mit einer Genauigkeit von 4 Nachkommastellen.\n",
    "\n",
    "a) $f_1(x) = x^2 − 2$\n",
    "\n",
    "b) $f_2(x) = x^3 − 4x^2+x+6$\n",
    "\n",
    "c) $f_3(x) = sin(x)$"
   ]
  },
  {
   "cell_type": "markdown",
   "metadata": {},
   "source": [
    "Exakte Lösung:\n",
    "\n",
    "a) x = $\\pm \\sqrt{2}$ (Rechenweg trivial)\n",
    "\n",
    "b) Errate Nullstelle: $x_1 = -1$\n",
    "\n",
    "$(x^2-5x+6)\\cdot(x+1) = 0$ -> pq Formel führt zu weiteren Lösungen: $x_2=3$ und $x_3=2$\n",
    "\n",
    "c) Nullstellen 0, Pi, 2Pi ...\n",
    "\n",
    "\n",
    "    "
   ]
  },
  {
   "cell_type": "code",
   "execution_count": 48,
   "metadata": {},
   "outputs": [
    {
     "name": "stdout",
     "output_type": "stream",
     "text": [
      "x =-5.0 Nullstelle: -1.41\n",
      "x =-0.0 Nullstelle: 1.41\n"
     ]
    }
   ],
   "source": [
    "#Newton Verfahren\n",
    "def fu(x): return x*x - 2\n",
    "aktuelleNullstelle = 0\n",
    "for i in t:\n",
    "    nullstelle = round(newton(fu,i,0.0001),4)\n",
    "    if(nullstelle != aktuelleNullstelle): #jede Änderung wird ausgegeben\n",
    "        print(\"x =%.1f\"%i+\" Nullstelle: %.2f\"%nullstelle)\n",
    "        aktuelleNullstelle = nullstelle"
   ]
  },
  {
   "cell_type": "code",
   "execution_count": 49,
   "metadata": {},
   "outputs": [
    {
     "name": "stdout",
     "output_type": "stream",
     "text": [
      "x =-5.0 Nullstelle: -1.00\n",
      "x =0.2 Nullstelle: 3.00\n",
      "x =0.7 Nullstelle: 2.00\n",
      "x =2.5 Nullstelle: -1.00\n",
      "x =2.6 Nullstelle: 3.00\n"
     ]
    }
   ],
   "source": [
    "#Newton Verfahren\n",
    "def fu(x): return x*x*x - 4*x*x+x+6\n",
    "aktuelleNullstelle = 0\n",
    "for i in t:\n",
    "    nullstelle = round(newton(fu,i,0.0001),4)\n",
    "    if(nullstelle != aktuelleNullstelle): #jede Änderung wird ausgegeben\n",
    "        print(\"x =%.1f\"%i+\" Nullstelle: %.2f\"%nullstelle)\n",
    "        aktuelleNullstelle = nullstelle"
   ]
  },
  {
   "cell_type": "code",
   "execution_count": 51,
   "metadata": {},
   "outputs": [
    {
     "name": "stdout",
     "output_type": "stream",
     "text": [
      "x =-5.0 Nullstelle: -9.42\n",
      "x =-4.8 Nullstelle: -15.71\n",
      "x =-4.7 Nullstelle: 75.40\n",
      "x =-4.6 Nullstelle: 3.14\n",
      "x =-4.5 Nullstelle: 0.00\n",
      "x =-4.4 Nullstelle: 3.14\n",
      "x =-4.3 Nullstelle: -3.14\n",
      "x =-3.7 Nullstelle: -3.14\n",
      "x =-3.6 Nullstelle: -3.14\n",
      "x =-3.2 Nullstelle: -3.14\n",
      "x =-3.1 Nullstelle: -3.14\n",
      "x =-2.6 Nullstelle: -3.14\n",
      "x =-2.5 Nullstelle: -3.14\n",
      "x =-1.9 Nullstelle: -12.57\n",
      "x =-1.8 Nullstelle: -6.28\n",
      "x =-1.7 Nullstelle: -9.42\n",
      "x =-1.6 Nullstelle: -31.42\n",
      "x =-1.5 Nullstelle: 12.57\n",
      "x =-1.4 Nullstelle: -3.14\n",
      "x =-1.3 Nullstelle: 3.14\n",
      "x =-1.2 Nullstelle: -3.14\n",
      "x =-1.1 Nullstelle: -0.00\n",
      "x =-1.0 Nullstelle: 0.00\n",
      "x =-0.9 Nullstelle: 0.00\n",
      "x =1.0 Nullstelle: -0.00\n",
      "x =1.1 Nullstelle: 0.00\n",
      "x =1.2 Nullstelle: 3.14\n",
      "x =1.3 Nullstelle: -3.14\n",
      "x =1.4 Nullstelle: 3.14\n",
      "x =1.5 Nullstelle: -12.57\n",
      "x =1.6 Nullstelle: 34.56\n",
      "x =1.7 Nullstelle: 9.42\n",
      "x =1.8 Nullstelle: 6.28\n",
      "x =1.9 Nullstelle: 12.57\n",
      "x =2.0 Nullstelle: 3.14\n",
      "x =2.6 Nullstelle: 3.14\n",
      "x =2.7 Nullstelle: 3.14\n",
      "x =3.2 Nullstelle: 3.14\n",
      "x =3.3 Nullstelle: 3.14\n",
      "x =3.7 Nullstelle: 3.14\n",
      "x =3.8 Nullstelle: 3.14\n",
      "x =4.4 Nullstelle: -3.14\n",
      "x =4.5 Nullstelle: -0.00\n",
      "x =4.6 Nullstelle: -3.14\n",
      "x =4.7 Nullstelle: -75.40\n",
      "x =4.8 Nullstelle: 15.71\n",
      "x =4.9 Nullstelle: 9.42\n"
     ]
    }
   ],
   "source": [
    "#Newton Verfahren\n",
    "def fu(x): return math.sin(x)\n",
    "aktuelleNullstelle = 0\n",
    "for i in t:\n",
    "    nullstelle = round(newton(fu,i,0.0001),4)\n",
    "    if(nullstelle != aktuelleNullstelle): #jede Änderung wird ausgegeben\n",
    "        print(\"x =%.1f\"%i+\" Nullstelle: %.2f\"%nullstelle)\n",
    "        aktuelleNullstelle = nullstelle"
   ]
  },
  {
   "cell_type": "markdown",
   "metadata": {},
   "source": [
    "## Aufgabe 4.3 \n",
    "### Nullstellensuche III\n",
    "Berechnen Sie numerisch den Wert $ln(2)$ als Nullstelle von $f(x) = e^{x} − 2$.\n",
    "\n",
    "a) Verwenden Sie das Newtonverfahren mit der analytisch exakten Ableitung.\n",
    "\n",
    "b) Verwenden Sie das Newtonverfahren mit einer über zentrale Differenzen approximierten Ableitung.\n",
    "\n",
    "c) Verwenden Sie einen Ansatz über Bisektion.\n",
    "\n",
    "d) Vergleichen Sie die Lösungen aus a) - c), indem Sie für jeden Iterationsschritt den Fehler mit\n",
    "dem ’exakten’ (Matlab-)Wert $log(2)$ vergleichen und plotten. Verwenden Sie für den Fehler\n",
    "eine logarithmische Skala.\n"
   ]
  },
  {
   "cell_type": "code",
   "execution_count": 74,
   "metadata": {},
   "outputs": [],
   "source": [
    "#Daten für d)\n",
    "dataA = []\n",
    "dataB = []\n",
    "dataC = []"
   ]
  },
  {
   "cell_type": "code",
   "execution_count": 75,
   "metadata": {},
   "outputs": [
    {
     "name": "stdout",
     "output_type": "stream",
     "text": [
      "Newton: Nullstelle von f : x= 0.6931471805599453\n"
     ]
    }
   ],
   "source": [
    "# Newton mit Exakter Ableitung a)\n",
    "def newton(f,x0, p):\n",
    "    while abs(f(x0))>p:\n",
    "        x0+=-f(x0)/(math.exp(x0))\n",
    "        dataA.append(x0-np.log(2))\n",
    "    return x0\n",
    "def fu(x): return (math.exp(x)-2)\n",
    "print(\"Newton: Nullstelle von f : x=\",newton(fu,0,0.00000000000001))"
   ]
  },
  {
   "cell_type": "code",
   "execution_count": 76,
   "metadata": {},
   "outputs": [
    {
     "name": "stdout",
     "output_type": "stream",
     "text": [
      "Newton: Nullstelle von f : x= 0.6931471805599453\n"
     ]
    }
   ],
   "source": [
    "# Newton mit zentalen differenzen b)\n",
    "def newton(f,x0, p):\n",
    "    while abs(f(x0))>p:\n",
    "        x0+=-f(x0)/ableitung2(f,x0)\n",
    "        dataB.append(x0-np.log(2))\n",
    "    return x0\n",
    "def fu(x): return (math.exp(x)-2)\n",
    "print(\"Newton: Nullstelle von f : x=\",newton(fu,0,0.00000000000001))"
   ]
  },
  {
   "cell_type": "code",
   "execution_count": 77,
   "metadata": {},
   "outputs": [
    {
     "name": "stdout",
     "output_type": "stream",
     "text": [
      "Bisektionsnullstelle von f : x= 0.6931495666503906\n"
     ]
    }
   ],
   "source": [
    "# Bisektion c)\n",
    "#Bisektion\n",
    "def bisektion(f,a,b):\n",
    "    if f(a)*f(b)>0:\n",
    "        print(\"Kein Vorzeichenwechsel\")\n",
    "        return\n",
    "    while b-a>0.00001:\n",
    "        m=(a+b)/2\n",
    "        if f(m)*f(a)<=0:\n",
    "            b=m \n",
    "        if f(m)*f(b)<=0: \n",
    "            a=m\n",
    "        dataC.append((a+b)/2-np.log(2))\n",
    "    return (a+b)/2\n",
    "def fu(x): return (math.exp(x)-2)\n",
    "print(\"Bisektionsnullstelle von f : x=\",bisektion(fu,0,1))"
   ]
  },
  {
   "cell_type": "code",
   "execution_count": 79,
   "metadata": {},
   "outputs": [
    {
     "name": "stdout",
     "output_type": "stream",
     "text": [
      "[0.3068528194400547, 0.04261170178293938, 0.0008951193589700202, 4.004998260809245e-07, 8.01581023779363e-14, 0.0]\n",
      "[0.3068528194335035, 0.04261170178431761, 0.0008951193595185813, 4.004998360729317e-07, 8.01581023779363e-14, 0.0]\n",
      "[0.056852819440054714, -0.06814718055994529, -0.005647180559945286, 0.025602819440054714, 0.009977819440054714, 0.0021653194400547138, -0.0017409305599452862, 0.00021219444005471377, -0.0007643680599452862, -0.0002760868099452862, -3.194618494528623e-05, 9.012412755471377e-05, 2.9088971304713773e-05, -1.4286068202862268e-06, 1.3830182242213773e-05, 6.200787710963773e-06, 2.3860904453387732e-06]\n"
     ]
    },
    {
     "data": {
      "text/plain": [
       "[<matplotlib.lines.Line2D at 0x1f245752148>]"
      ]
     },
     "execution_count": 79,
     "metadata": {},
     "output_type": "execute_result"
    },
    {
     "data": {
      "image/png": "[encoded data removed]",
      "text/plain": [
       "<Figure size 432x288 with 3 Axes>"
      ]
     },
     "metadata": {
      "needs_background": "light"
     },
     "output_type": "display_data"
    }
   ],
   "source": [
    "print(dataA)\n",
    "print(dataB)\n",
    "print(dataC)\n",
    "fig, axs = plt.subplots(3)\n",
    "fig.suptitle('Fehler')\n",
    "axs[0].plot(dataA)\n",
    "axs[1].plot(dataB)\n",
    "axs[2].plot(dataC)"
   ]
  },
  {
   "cell_type": "markdown",
   "metadata": {},
   "source": [
    "## Aufgabe 4.4 \n",
    "### Numerisches Differenzieren\n",
    "\n",
    "Für das numerische Differenzieren stehen insbesondere die beiden folgenden Näherungsformeln zur\n",
    "Verfügung:\n",
    "\n",
    "Vorwärtsdifferenz: $f^{\\prime}(x_0) \\approx \\frac{f(x_0+h)−f(x_0)}{h}$\n",
    "\n",
    "zentrale Differenz: $f^{\\prime}(x_0) \\approx \\frac{f(x_0+\\frac{h}{2})−f(x_0-\\frac{h}{2})}{h}$\n",
    "\n",
    "Zeigen Sie mithilfe der Taylorreihe von $f(x)$ um den Entwicklungspunkt $( x_0 | f(x_0) )$, dass die Vorwärtsdifferenzen linear und die zentralen Differenzen quadratisch gegen die Ableitung $f_0(x_0)$ konvergieren.\n",
    "\n",
    "*Hinweis:* Gehen Sie davon aus, dass die Funktion f in einer hinreichend großen Umgebung von x0\n",
    "stetig differenzierbar ist."
   ]
  },
  {
   "cell_type": "markdown",
   "metadata": {},
   "source": [
    "### Lösung:\n",
    "Taylor Entwicklung von $f(x)$ um $x_0$ dritter Ordnung:\n",
    "\n",
    "$f(x) = f(x_0) + f'(x_0)(x-x_0)+\\frac{f''(x_0)}{2}(x-x_0)^2+\\frac{f'''(x_0)}{6}(x-x_0)^3$\n",
    "\n",
    "Einsetzen von $x = x_0 +h$ in Gleichung eingesetzt:\n",
    "\n",
    "$f(x) = f(x_0) + f'(x_0)(h)+\\frac{f''(x_0)}{2}(h)^2+\\frac{f'''(x_0)}{6}(h)^3$\n",
    "\n",
    "Folglich ergibt sich für die Vorwärstdifferenz:\n",
    "\n",
    "$f^{\\prime}(x_0) \\approx \\frac{f(x_0+h)−f(x_0)}{h} = f'(x_0)+\\frac{f''(x_0)}{2}(h)+\\frac{f'''(x_0)}{6}(h)^2$\n",
    "\n",
    "Analog lässt sich für die zentrale Differenz ermitteln:\n",
    "\n",
    "$f^{\\prime}(x_0) \\approx \\frac{f(x_0+\\frac{h}{2})−f(x_0-\\frac{h}{2})}{h}=f'(x_0)+\\frac{f'''(x_0)}{3} (\\frac{h}{2})^2$\n",
    "\n",
    "Lässt man h nun gegen Null gehen, dann wird der Fehler der Vorwärtsdifferenz (dh. $\\frac{f''(x_0)}{2}(h)+\\frac{f'''(x_0)}{6}(h)^2$)  linear gegen Null gehen. Man bedenkt, dass der Quadratische Term für kleine h irrelevant wird.\n",
    "\n",
    "Allerdings wird der Fehler bei der zentralen Differenz (dh. $\\frac{f'''(x_0)}{3}(\\frac{h}{2})^2$) von einem Quadratischen Term geführt und nimmt damit quadratisch ab!\n",
    "\n",
    "\n",
    "\n",
    "\n"
   ]
  },
  {
   "cell_type": "code",
   "execution_count": null,
   "metadata": {},
   "outputs": [],
   "source": []
  },
  {
   "cell_type": "code",
   "execution_count": null,
   "metadata": {},
   "outputs": [],
   "source": []
  }
 ],
 "metadata": {
  "kernelspec": {
   "display_name": "Python 3",
   "language": "python",
   "name": "python3"
  },
  "language_info": {
   "codemirror_mode": {
    "name": "ipython",
    "version": 3
   },
   "file_extension": ".py",
   "mimetype": "text/x-python",
   "name": "python",
   "nbconvert_exporter": "python",
   "pygments_lexer": "ipython3",
   "version": "3.7.6"
  }
 },
 "nbformat": 4,
 "nbformat_minor": 2
}
