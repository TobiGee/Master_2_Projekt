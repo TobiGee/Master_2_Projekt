{
 "cells": [
  {
   "cell_type": "markdown",
   "metadata": {},
   "source": [
    "# Übungsblatt 4"
   ]
  },
  {
   "cell_type": "code",
   "execution_count": 50,
   "metadata": {},
   "outputs": [],
   "source": [
    "import matplotlib.pyplot as plt\n",
    "import numpy as np\n",
    "import math"
   ]
  },
  {
   "cell_type": "code",
   "execution_count": 24,
   "metadata": {},
   "outputs": [
    {
     "name": "stdout",
     "output_type": "stream",
     "text": [
      "Bisektionsnullstelle von f : x= 3.872981071472168\n",
      "Newton: Nullstelle von f : x= 3.872983346207417\n"
     ]
    }
   ],
   "source": [
    "#Bisektion\n",
    "def bisektion(f,a,b):\n",
    "    if f(a)*f(b)>0:\n",
    "        print(\"Kein Vorzeichenwechsel\")\n",
    "        return\n",
    "    while b-a>0.00001:\n",
    "        m=(a+b)/2\n",
    "        if f(m)*f(a)<=0:\n",
    "            b=m \n",
    "        if f(m)*f(b)<=0: \n",
    "            a=m\n",
    "    return (a+b)/2\n",
    "\n",
    "def fu(x): return x*x-15\n",
    "print(\"Bisektionsnullstelle von f : x=\",bisektion(fu,0,10))\n",
    "\n",
    "def ableitung(f,x):\n",
    "    h=0.00001\n",
    "    return (f(x+h)-f(x))/h #einseitiger Differenzenquotient\n",
    "\n",
    "# Newton\n",
    "def newton(f,x0, p):\n",
    "    while abs(f(x0))>p:\n",
    "        x0+=-f(x0)/ableitung(f,x0)\n",
    "    return x0\n",
    "print(\"Newton: Nullstelle von f : x=\",newton(fu,0,0.00000000000001))\n",
    "\n",
    "def ableitung2(f,x):\n",
    "    h=0.00001\n",
    "    return (f(x+h)-f(x-h))/(2*h) #beidseitiger Differenzenquotient"
   ]
  },
  {
   "cell_type": "markdown",
   "metadata": {},
   "source": [
    "## Aufgabe 4.1 \n",
    "### Nullstellensuche I\n",
    "\n",
    "Finden Sie alle Lösungen der Gleichung $\\frac{1}{3}x^3 = 2x − 1$ im Intervall $[−10, 10]$.\n",
    "Schätzen Sie die Genauigkeit Ihrer Lösungen ab"
   ]
  },
  {
   "cell_type": "code",
   "execution_count": 29,
   "metadata": {},
   "outputs": [
    {
     "data": {
      "image/png": "[encoded data removed]",
      "text/plain": [
       "<Figure size 432x288 with 1 Axes>"
      ]
     },
     "metadata": {
      "needs_background": "light"
     },
     "output_type": "display_data"
    }
   ],
   "source": [
    "# Plot von -5 bis 5\n",
    "t = np.arange(-5.0, 5.0, 0.1)\n",
    "def fu(x): return 0.33333333333333*x*x*x - 2*x + 1\n",
    "#s = 0.33333333333333*x*x*x - 2*x + 1\n",
    "\n",
    "fig, ax = plt.subplots()\n",
    "ax.plot(t, fu(t))\n",
    "ax.set(xlabel='x', ylabel='y')\n",
    "ax.grid()\n",
    "plt.show()"
   ]
  },
  {
   "cell_type": "code",
   "execution_count": 28,
   "metadata": {},
   "outputs": [
    {
     "name": "stdout",
     "output_type": "stream",
     "text": [
      "Bisektionsnullstelle von f : x= -2.669078826904297\n",
      "Bisektionsnullstelle von f : x= 0.523979663848877\n",
      "Bisektionsnullstelle von f : x= 2.1450986862182617\n",
      "Newton: Nullstelle von f : x= -2.669079088282301\n",
      "Newton: Nullstelle von f : x= -2.669079088282301\n",
      "Newton: Nullstelle von f : x= 2.145102691200435\n"
     ]
    }
   ],
   "source": [
    "print(\"Bisektionsnullstelle von f : x=\",bisektion(fu,-4,-2))\n",
    "print(\"Bisektionsnullstelle von f : x=\",bisektion(fu,-2,1.5))\n",
    "print(\"Bisektionsnullstelle von f : x=\",bisektion(fu,1.5,4))\n",
    "print(\"Newton: Nullstelle von f : x=\",newton(fu,-4,0.00000000000001))\n",
    "print(\"Newton: Nullstelle von f : x=\",newton(fu,-2.5,0.00000000000001))\n",
    "print(\"Newton: Nullstelle von f : x=\",newton(fu,1.5,0.00000000000001))"
   ]
  },
  {
   "cell_type": "markdown",
   "metadata": {},
   "source": [
    "## Aufgabe 4.2 \n",
    "### Nullstellensuche II\n",
    "\n",
    "Bestimmen Sie für die folgenden Funktionen die Nullstellen $x_i$ zunächst exakt und untersuchen Sie\n",
    "dann für ’jede’ Nullstelle $x$, für welche $x_0$ das Newton-Verfahren gegen $x_i$ konvergiert. Wählen Sie\n",
    "dazu $x_0$ im Intervall $[−5, 5]$ mit einer Genauigkeit von 4 Nachkommastellen.\n",
    "\n",
    "a) $f_1(x) = x^2 − 2$\n",
    "\n",
    "b) $f_2(x) = x^3 − 4x^2+x+6$\n",
    "\n",
    "c) $f_3(x) = sin(x)$"
   ]
  },
  {
   "cell_type": "markdown",
   "metadata": {},
   "source": [
    "Exakte Lösung:\n",
    "\n",
    "a) x = $\\pm \\sqrt{2}$ (Rechenweg trivial)\n",
    "\n",
    "b) Errate Nullstelle: $x_1 = -1$\n",
    "\n",
    "$(x^2-5x+6)\\cdot(x+1) = 0$ -> pq Formel führt zu weiteren Lösungen: $x_2=3$ und $x_3=2$\n",
    "\n",
    "c) Nullstellen 0, Pi, 2Pi ...\n",
    "\n",
    "\n",
    "    "
   ]
  },
  {
   "cell_type": "code",
   "execution_count": 48,
   "metadata": {},
   "outputs": [
    {
     "name": "stdout",
     "output_type": "stream",
     "text": [
      "x =-5.0 Nullstelle: -1.41\n",
      "x =-0.0 Nullstelle: 1.41\n"
     ]
    }
   ],
   "source": [
    "#Newton Verfahren\n",
    "def fu(x): return x*x - 2\n",
    "aktuelleNullstelle = 0\n",
    "for i in t:\n",
    "    nullstelle = round(newton(fu,i,0.0001),4)\n",
    "    if(nullstelle != aktuelleNullstelle): #jede Änderung wird ausgegeben\n",
    "        print(\"x =%.1f\"%i+\" Nullstelle: %.2f\"%nullstelle)\n",
    "        aktuelleNullstelle = nullstelle"
   ]
  },
  {
   "cell_type": "code",
   "execution_count": 49,
   "metadata": {},
   "outputs": [
    {
     "name": "stdout",
     "output_type": "stream",
     "text": [
      "x =-5.0 Nullstelle: -1.00\n",
      "x =0.2 Nullstelle: 3.00\n",
      "x =0.7 Nullstelle: 2.00\n",
      "x =2.5 Nullstelle: -1.00\n",
      "x =2.6 Nullstelle: 3.00\n"
     ]
    }
   ],
   "source": [
    "#Newton Verfahren\n",
    "def fu(x): return x*x*x - 4*x*x+x+6\n",
    "aktuelleNullstelle = 0\n",
    "for i in t:\n",
    "    nullstelle = round(newton(fu,i,0.0001),4)\n",
    "    if(nullstelle != aktuelleNullstelle): #jede Änderung wird ausgegeben\n",
    "        print(\"x =%.1f\"%i+\" Nullstelle: %.2f\"%nullstelle)\n",
    "        aktuelleNullstelle = nullstelle"
   ]
  },
  {
   "cell_type": "code",
   "execution_count": 51,
   "metadata": {},
   "outputs": [
    {
     "name": "stdout",
     "output_type": "stream",
     "text": [
      "x =-5.0 Nullstelle: -9.42\n",
      "x =-4.8 Nullstelle: -15.71\n",
      "x =-4.7 Nullstelle: 75.40\n",
      "x =-4.6 Nullstelle: 3.14\n",
      "x =-4.5 Nullstelle: 0.00\n",
      "x =-4.4 Nullstelle: 3.14\n",
      "x =-4.3 Nullstelle: -3.14\n",
      "x =-3.7 Nullstelle: -3.14\n",
      "x =-3.6 Nullstelle: -3.14\n",
      "x =-3.2 Nullstelle: -3.14\n",
      "x =-3.1 Nullstelle: -3.14\n",
      "x =-2.6 Nullstelle: -3.14\n",
      "x =-2.5 Nullstelle: -3.14\n",
      "x =-1.9 Nullstelle: -12.57\n",
      "x =-1.8 Nullstelle: -6.28\n",
      "x =-1.7 Nullstelle: -9.42\n",
      "x =-1.6 Nullstelle: -31.42\n",
      "x =-1.5 Nullstelle: 12.57\n",
      "x =-1.4 Nullstelle: -3.14\n",
      "x =-1.3 Nullstelle: 3.14\n",
      "x =-1.2 Nullstelle: -3.14\n",
      "x =-1.1 Nullstelle: -0.00\n",
      "x =-1.0 Nullstelle: 0.00\n",
      "x =-0.9 Nullstelle: 0.00\n",
      "x =1.0 Nullstelle: -0.00\n",
      "x =1.1 Nullstelle: 0.00\n",
      "x =1.2 Nullstelle: 3.14\n",
      "x =1.3 Nullstelle: -3.14\n",
      "x =1.4 Nullstelle: 3.14\n",
      "x =1.5 Nullstelle: -12.57\n",
      "x =1.6 Nullstelle: 34.56\n",
      "x =1.7 Nullstelle: 9.42\n",
      "x =1.8 Nullstelle: 6.28\n",
      "x =1.9 Nullstelle: 12.57\n",
      "x =2.0 Nullstelle: 3.14\n",
      "x =2.6 Nullstelle: 3.14\n",
      "x =2.7 Nullstelle: 3.14\n",
      "x =3.2 Nullstelle: 3.14\n",
      "x =3.3 Nullstelle: 3.14\n",
      "x =3.7 Nullstelle: 3.14\n",
      "x =3.8 Nullstelle: 3.14\n",
      "x =4.4 Nullstelle: -3.14\n",
      "x =4.5 Nullstelle: -0.00\n",
      "x =4.6 Nullstelle: -3.14\n",
      "x =4.7 Nullstelle: -75.40\n",
      "x =4.8 Nullstelle: 15.71\n",
      "x =4.9 Nullstelle: 9.42\n"
     ]
    }
   ],
   "source": [
    "#Newton Verfahren\n",
    "def fu(x): return math.sin(x)\n",
    "aktuelleNullstelle = 0\n",
    "for i in t:\n",
    "    nullstelle = round(newton(fu,i,0.0001),4)\n",
    "    if(nullstelle != aktuelleNullstelle): #jede Änderung wird ausgegeben\n",
    "        print(\"x =%.1f\"%i+\" Nullstelle: %.2f\"%nullstelle)\n",
    "        aktuelleNullstelle = nullstelle"
   ]
  },
  {
   "cell_type": "markdown",
   "metadata": {},
   "source": [
    "## Aufgabe 4.3 \n",
    "### Nullstellensuche III\n",
    "Berechnen Sie numerisch den Wert $ln(2)$ als Nullstelle von $f(x) = e^{2\n",
    "x} − 2$.\n",
    "\n",
    "a) Verwenden Sie das Newtonverfahren mit der analytisch exakten Ableitung.\n",
    "\n",
    "b) Verwenden Sie das Newtonverfahren mit einer über zentrale Differenzen approximierten Ableitung.\n",
    "\n",
    "c) Verwenden Sie einen Ansatz über Bisektion.\n",
    "\n",
    "d) Vergleichen Sie die Lösungen aus a) - c), indem Sie für jeden Iterationsschritt den Fehler mit\n",
    "dem ’exakten’ (Matlab-)Wert $log(2)$ vergleichen und plotten. Verwenden Sie für den Fehler\n",
    "eine logarithmische Skala.\n"
   ]
  },
  {
   "cell_type": "code",
   "execution_count": null,
   "metadata": {},
   "outputs": [],
   "source": [
    "#Daten für d)\n",
    "dataA = []\n",
    "dataB = []\n",
    "dataC = []"
   ]
  },
  {
   "cell_type": "code",
   "execution_count": 54,
   "metadata": {},
   "outputs": [
    {
     "name": "stdout",
     "output_type": "stream",
     "text": [
      "Newton: Nullstelle von f : x= 0.34657359027997264\n"
     ]
    }
   ],
   "source": [
    "# Newton mit Exakter Ableitung a)\n",
    "def newton(f,x0, p):\n",
    "    while abs(f(x0))>p:\n",
    "        x0+=-f(x0)/(2*math.exp(2*x0))\n",
    "        dataA.append(x0)\n",
    "    return x0\n",
    "def fu(x): return (math.exp(2*x)-2)\n",
    "print(\"Newton: Nullstelle von f : x=\",newton(fu,0,0.00000000000001))"
   ]
  },
  {
   "cell_type": "code",
   "execution_count": 56,
   "metadata": {},
   "outputs": [
    {
     "name": "stdout",
     "output_type": "stream",
     "text": [
      "Newton: Nullstelle von f : x= 0.34657359027997264\n"
     ]
    }
   ],
   "source": [
    "# Newton mit zentalen differenzen b)\n",
    "def newton(f,x0, p):\n",
    "    while abs(f(x0))>p:\n",
    "        x0+=-f(x0)/ableitung2(f,x0)\n",
    "        dataB.append(x0)\n",
    "    return x0\n",
    "def fu(x): return (math.exp(2*x)-2)\n",
    "print(\"Newton: Nullstelle von f : x=\",newton(fu,0,0.00000000000001))"
   ]
  },
  {
   "cell_type": "code",
   "execution_count": 58,
   "metadata": {},
   "outputs": [
    {
     "name": "stdout",
     "output_type": "stream",
     "text": [
      "Bisektionsnullstelle von f : x= 0.3465766906738281\n"
     ]
    }
   ],
   "source": [
    "# Bisektion c)\n",
    "#Bisektion\n",
    "def bisektion(f,a,b):\n",
    "    if f(a)*f(b)>0:\n",
    "        print(\"Kein Vorzeichenwechsel\")\n",
    "        return\n",
    "    while b-a>0.00001:\n",
    "        m=(a+b)/2\n",
    "        if f(m)*f(a)<=0:\n",
    "            b=m \n",
    "        if f(m)*f(b)<=0: \n",
    "            a=m\n",
    "        dataC.append((a+b)/2)\n",
    "    return (a+b)/2\n",
    "def fu(x): return (math.exp(2*x)-2)\n",
    "print(\"Bisektionsnullstelle von f : x=\",bisektion(fu,0,1))"
   ]
  },
  {
   "cell_type": "markdown",
   "metadata": {},
   "source": [
    "## Aufgabe 4.4 \n",
    "### Numerisches Differenzieren\n",
    "\n",
    "Für das numerische Differenzieren stehen insbesondere die beiden folgenden Näherungsformeln zur\n",
    "Verfügung:\n",
    "\n",
    "Vorwärtsdifferenz: $f^{\\prime}(x_0) \\approx \\frac{f(x_0+h)−f(x_0)}{h}$\n",
    "\n",
    "zentrale Differenz: $f^{\\prime}(x_0) \\approx \\frac{f(x_0+\\frac{h}{2})−f(x_0-\\frac{h}{2})}{h}$\n",
    "\n",
    "Zeigen Sie mithilfe der Taylorreihe von $f(x)$ um den Entwicklungspunkt $( x_0 | f(x_0) )$, dass die Vorwärtsdifferenzen linear und die zentralen Differenzen quadratisch gegen die Ableitung $f_0(x_0)$ konvergieren.\n",
    "\n",
    "*Hinweis:* Gehen Sie davon aus, dass die Funktion f in einer hinreichend großen Umgebung von x0\n",
    "stetig differenzierbar ist."
   ]
  },
  {
   "cell_type": "code",
   "execution_count": null,
   "metadata": {},
   "outputs": [],
   "source": []
  }
 ],
 "metadata": {
  "kernelspec": {
   "display_name": "Python 3",
   "language": "python",
   "name": "python3"
  },
  "language_info": {
   "codemirror_mode": {
    "name": "ipython",
    "version": 3
   },
   "file_extension": ".py",
   "mimetype": "text/x-python",
   "name": "python",
   "nbconvert_exporter": "python",
   "pygments_lexer": "ipython3",
   "version": "3.7.6"
  }
 },
 "nbformat": 4,
 "nbformat_minor": 2
}
