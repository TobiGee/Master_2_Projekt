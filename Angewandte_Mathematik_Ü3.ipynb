{
 "cells": [
  {
   "cell_type": "markdown",
   "metadata": {},
   "source": [
    "# Übungsblatt 3"
   ]
  },
  {
   "cell_type": "markdown",
   "metadata": {},
   "source": [
    "## Aufgabe 3.1 \n",
    "### Vektorräume\n",
    "Welche der folgenden Mengen sind R-Vektorräume? Begründen Sie!\n",
    "\n",
    "a) C \n",
    "\n",
    "b) Q\n",
    "\n",
    "c) G0=Menge aller Ursprungsgeraden\n",
    "\n",
    "d) G=Menge aller Geraden\n",
    "\n",
    "e) I=Menge aller invertierbaren n×n-Matrizen\n",
    "\n",
    "f) D=Menge aller n × n-Diagonalmatrizen\n",
    "\n",
    "g) H=Menge aller harmonischen Schwingungen\n",
    "\n",
    "h) M=IEEE 754 double-Zahlen"
   ]
  },
  {
   "cell_type": "markdown",
   "metadata": {},
   "source": [
    "### Lösung:\n",
    "\n",
    "#### Erinnerung Vektorraum Axiome:\n",
    "Sei K ∈ {Q, R, C} \n",
    "\n",
    "Eine Menge V heißt K-Vektorraum, wenn für alle u, v, w ∈ V und alle λ, µ ∈ K\n",
    "die folgenden Verknüpfungen in V liegen, und es gilt:\n",
    "* A1) u + v = v + u\n",
    "* A2) (u + v) + w = u + (v + w)\n",
    "* A3) es gibt einen Nullvektor 0 mit v + 0 = v\n",
    "* A4) es gibt einen inversen Vektor −v mit v − v = 0\n",
    "* S1) λ · (u + v) = λ · u + λ · v\n",
    "* S2) (λ + µ) · u = λ · u + µ · u\n",
    "* S3) (λ · µ) · u = λ · (µ · u)\n",
    "\n",
    "Beachte zunächst, dass R-Vektorräume Vektorräume auf reelen Zahlen darstellen.\n",
    "\n",
    "a)\n",
    "\n",
    "* A1: Die Summe auf C ist komponentenweise Definiert und liegt immer in C.\n",
    "* A2: Das Assioziativgesetz gilt.\n",
    "* A3: Nullvektor existiert als 0 + 0i\n",
    "* A4: Zu jedem Vektor existiert ein inverser Vektor (zu a +bi ist stets -a-bi invers).\n",
    "* S1) Gilt trivialer Weise.\n",
    "* S2) Gilt ebenso.\n",
    "* S3) Ebenso.\n",
    "\n",
    "b) Ist offensichtlich ebenso R-Vr.\n",
    "\n",
    "c) Es sei jedes Element eindeutig bestimmt durch die Steigung $m$.\n",
    "\n",
    "Definiere Addition auf G0 als:\n",
    "$m_1 + m_2 = m_res$\n",
    "\n",
    "Analog gelte für die Multiplikation:\n",
    "$m_1 \\cdot m_2 = m_{res}$\n",
    "\n",
    "Dann folgt für die Axiome:\n",
    "\n",
    "* A1: $m_1 + m_2 = m_{12} = m_1 + m_2 = m_res$ -> Gilt\n",
    "* A2: $(m_1 + m_2) +m_3 =m_{12} +m_3 = m_{123} = m_1 + (m_{23}) = m_1 + (m_2 +m_3) = m_res$\n",
    "* A3: Nullvektor ist die Ursprungsgerade mit der Steigung Null. Somit gilt: m+0=m.\n",
    "* A4: Inverse existieren, da jede Steigung ein negative Pendant hat.\n",
    "* S1,2 und 3 gelten trivialer Weise.\n",
    "\n",
    "d) \n",
    "# Hilfe!!!!!!!!!!!!!!!!!!!!!!!!!!!!!!!!!!!!!!!!!!!!!!!!!!!!!!!!!!\n",
    "Wie sind Operationen auf geraden defineirt???\n",
    "\n",
    "e) Kann kein Vektorraum sein, da die Nullmatrix nicht invertierbar ist und damit kein Neutrales Element der Addition existiert. (A3)\n",
    "\n",
    "f)\n",
    "* A1: Gilt offensichtlich.\n",
    "* A2: Ebenso.\n",
    "* A3: Da die Nullmatrix eine Diagonalmatrix ist, gilt auch A3.\n",
    "* A4: Gilt offensichtlich.\n",
    "* S1, S2, S3: Die Multiplikation und Addidtion sind elementweise definiert. Dadurch gelten S1, S2 und S3.\n",
    "\n",
    "g) Die Menge aller harmonischen Schwingungen ist definiert durch Amplitude und Frequenz.\n"
   ]
  },
  {
   "cell_type": "markdown",
   "metadata": {},
   "source": [
    "## Aufgabe 3.2 \n",
    "### Vektorraum-Basis\n",
    "\n",
    "Geben Sie für die Vektorräume aus Aufgabe 3.1 eine Basis und die Dimension."
   ]
  },
  {
   "cell_type": "code",
   "execution_count": null,
   "metadata": {},
   "outputs": [],
   "source": []
  },
  {
   "cell_type": "markdown",
   "metadata": {},
   "source": [
    "## Aufgabe 3.3 \n",
    "### LU-Zerlegung\n",
    "\n",
    "Bestimmen Sie die LU-Zerlegung von\n",
    "\n",
    "$A = \\begin{pmatrix}\n",
    "  4 & 2 & 1\\\\ \n",
    "  2 & 4 & 2\\\\\n",
    "  1 & 2 & 4\n",
    "\\end{pmatrix}$ "
   ]
  },
  {
   "cell_type": "code",
   "execution_count": null,
   "metadata": {},
   "outputs": [],
   "source": []
  },
  {
   "cell_type": "markdown",
   "metadata": {},
   "source": [
    "## Aufgabe 3.4 \n",
    "### Gauß-Verfahren\n",
    "\n",
    "Implementieren Sie das Gauß-Verfahren und bestimmen Sie damit die unbekannten Verkehrsdichten\n",
    "x1, x2, x3, x4 in folgender Abbildung (s. Skript). Nehmen Sie dazu zusätzlichen an, dass −2x2+x4 = 0\n",
    "ist.\n",
    "\n",
    "<img src=\"files/img/Ü3skizze1.PNG\" alt=\"Drawing\" style=\"width: 350px;\"/>"
   ]
  },
  {
   "cell_type": "code",
   "execution_count": null,
   "metadata": {},
   "outputs": [],
   "source": []
  },
  {
   "cell_type": "markdown",
   "metadata": {},
   "source": [
    "## Aufgabe 3.5 \n",
    "### Simulation mit LU-Zerlegung\n",
    "\n",
    "Das Verkehrsmodell aus Aufgabe 3.4 soll jetzt über einen kompletten Tagesverlauf simuliert werden.\n",
    "Dafür sind die Zu- und Abflüsse folgendermaßen als Funktionen (t in h) gegeben.\n",
    "<img src=\"files/img/Ü3skizze2.PNG\" alt=\"Drawing\" style=\"width: 350px;\"/>\n",
    "Es gilt:\n",
    "\n",
    "$\n",
    "\\begin{align}\n",
    "z_A(t) &= 610 − 100 sin \\Bigl(\\frac{\\pi}{12}t\\Bigl)\\\\\n",
    "a_A(t) &= 450 − 25 sin \\Bigl(\\frac{\\pi}{3}t + 5\\Bigl)\\\\\n",
    "z_B(t) &= 400 − 20 sin \\Bigl(\\frac{\\pi}{3}t - 1\\Bigl)\\\\\n",
    "a_B(t) &= 640 + 50 sin \\Bigl(\\frac{\\pi}{12}t - 7\\Bigl)\\\\\n",
    "z_C(t) &= 600 + 10 sin \\Bigl(\\frac{\\pi}{6}t + 4\\Bigl)\\\\\n",
    "a_D(t) &= zA − aA + zB − aB + zC\n",
    "\\end{align}\n",
    "$\n",
    "\n",
    "Zusätzlich ist: $−2x_2 + x_4 = 0$\n",
    "\n",
    "Gehen Sie für die Simulation folgendermaßen vor:\n",
    "* Notieren Sie das LGS in Abhängigkeit von $t$ in der Form $A·x(t) = b(t)$, mit einer quadratischen\n",
    "Matrix A.\n",
    "* Bestimmen Sie eine LU-Zerlegung der Koeffizientenmatrix $A$. Berechnen Sie die Zerlegung\n",
    "\n",
    "von Hand oder nutzen Sie dazu eine Funktion, die Ihnen z.B. Matlab zur Verfügung stellt.\n",
    "\n",
    "* Werten Sie die rechte Seite b für jede Minute des Tages aus. Dies liefert Ihnen jeweils eine\n",
    "konkrete rechte Seite bi\n",
    "\n",
    "* Lösen Sie mit Hilfe der LU-Zerlegung jedes LGS $A · x = bi$\n",
    "\n",
    "* Plotten Sie die vier Verkehrsflüsse $x1, x2, x3, x4$ über einen Tagesverlauf.\n",
    "Könnten die Straßen mit den angegebenen Verkehrsdichten als Einbahnstraßen realisiert werden?\n",
    "\n"
   ]
  },
  {
   "cell_type": "code",
   "execution_count": null,
   "metadata": {},
   "outputs": [],
   "source": []
  },
  {
   "cell_type": "markdown",
   "metadata": {},
   "source": [
    "## Aufgabe 3.6 \n",
    "### Jacobi-Iteration\n",
    "\n",
    "Lösen Sie das LGS\n",
    "\n",
    "$\n",
    "\\begin{align}\n",
    "&4x_1 &+ &x_2 &+ &2x_3 &= &7\\\\\n",
    "&2x_1 &+ &2x_2 &+ &x_3 &= &7\\\\\n",
    "&&&x_2 &+ &2x_3 &= &3\n",
    "\\end{align}\n",
    "$\n",
    "\n",
    "mit Hilfe der Jacobi-Iteration auf 6 Nachkommastellen genau.\n"
   ]
  },
  {
   "cell_type": "code",
   "execution_count": null,
   "metadata": {},
   "outputs": [],
   "source": []
  }
 ],
 "metadata": {
  "kernelspec": {
   "display_name": "Python 3",
   "language": "python",
   "name": "python3"
  },
  "language_info": {
   "codemirror_mode": {
    "name": "ipython",
    "version": 3
   },
   "file_extension": ".py",
   "mimetype": "text/x-python",
   "name": "python",
   "nbconvert_exporter": "python",
   "pygments_lexer": "ipython3",
   "version": "3.7.4"
  }
 },
 "nbformat": 4,
 "nbformat_minor": 2
}
