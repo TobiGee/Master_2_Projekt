{
 "cells": [
  {
   "cell_type": "markdown",
   "metadata": {},
   "source": [
    "# Übungsblatt 3"
   ]
  },
  {
   "cell_type": "code",
   "execution_count": 10,
   "metadata": {},
   "outputs": [],
   "source": [
    "import numpy as np\n",
    "from pprint import pprint\n",
    "from numpy import array, zeros, diag, diagflat, dot\n",
    "import pprint\n",
    "import scipy\n",
    "import math\n",
    "import scipy.linalg\n",
    "import matplotlib.pyplot as plt\n"
   ]
  },
  {
   "cell_type": "markdown",
   "metadata": {},
   "source": [
    "## Aufgabe 3.1 \n",
    "### Vektorräume\n",
    "Welche der folgenden Mengen sind R-Vektorräume? Begründen Sie!\n",
    "\n",
    "a) C \n",
    "\n",
    "b) Q\n",
    "\n",
    "c) G0=Menge aller Ursprungsgeraden\n",
    "\n",
    "d) G=Menge aller Geraden\n",
    "\n",
    "e) I=Menge aller invertierbaren n×n-Matrizen\n",
    "\n",
    "f) D=Menge aller n × n-Diagonalmatrizen\n",
    "\n",
    "g) H=Menge aller harmonischen Schwingungen\n",
    "\n",
    "h) M=IEEE 754 double-Zahlen"
   ]
  },
  {
   "cell_type": "markdown",
   "metadata": {},
   "source": [
    "### Lösung:\n",
    "\n",
    "#### Erinnerung Vektorraum Axiome:\n",
    "Sei K ∈ {Q, R, C} \n",
    "\n",
    "Eine Menge V heißt K-Vektorraum, wenn für alle u, v, w ∈ V und alle λ, µ ∈ K\n",
    "die folgenden Verknüpfungen in V liegen, und es gilt:\n",
    "* A1) u + v = v + u\n",
    "* A2) (u + v) + w = u + (v + w)\n",
    "* A3) es gibt einen Nullvektor 0 mit v + 0 = v\n",
    "* A4) es gibt einen inversen Vektor −v mit v − v = 0\n",
    "* S1) λ · (u + v) = λ · u + λ · v\n",
    "* S2) (λ + µ) · u = λ · u + µ · u\n",
    "* S3) (λ · µ) · u = λ · (µ · u)\n",
    "\n",
    "Beachte zunächst, dass R-Vektorräume Vektorräume auf reelen Zahlen darstellen.\n",
    "\n",
    "a)\n",
    "\n",
    "* A1: Die Summe auf C ist komponentenweise Definiert und liegt immer in C.\n",
    "* A2: Das Assioziativgesetz gilt.\n",
    "* A3: Nullvektor existiert als 0 + 0i\n",
    "* A4: Zu jedem Vektor existiert ein inverser Vektor (zu a +bi ist stets -a-bi invers).\n",
    "* S1) Gilt trivialer Weise.\n",
    "* S2) Gilt ebenso.\n",
    "* S3) Ebenso.\n",
    "\n",
    "b) Ist offensichtlich ebenso R-Vr.\n",
    "\n",
    "c) Es sei jedes Element eindeutig bestimmt durch die Steigung $m$.\n",
    "\n",
    "Definiere Addition auf G0 als:\n",
    "$m_1 + m_2 = m_res$\n",
    "\n",
    "Analog gelte für die Multiplikation:\n",
    "$m_1 \\cdot m_2 = m_{res}$\n",
    "\n",
    "Dann folgt für die Axiome:\n",
    "\n",
    "* A1: $m_1 + m_2 = m_{12} = m_1 + m_2 = m_res$ -> Gilt\n",
    "* A2: $(m_1 + m_2) +m_3 =m_{12} +m_3 = m_{123} = m_1 + (m_{23}) = m_1 + (m_2 +m_3) = m_res$\n",
    "* A3: Nullvektor ist die Ursprungsgerade mit der Steigung Null. Somit gilt: m+0=m.\n",
    "* A4: Inverse existieren, da jede Steigung ein negative Pendant hat.\n",
    "* S1,2 und 3 gelten trivialer Weise.\n",
    "\n",
    "d) \n",
    "# Hilfe!!!!!!!!!!!!!!!!!!!!!!!!!!!!!!!!!!!!!!!!!!!!!!!!!!!!!!!!!!\n",
    "Wie sind Operationen auf geraden defineirt???\n",
    "\n",
    "e) Kann kein Vektorraum sein, da die Nullmatrix nicht invertierbar ist und damit kein Nullvektor existiert. (A3)\n",
    "\n",
    "f)\n",
    "* A1: Gilt offensichtlich.\n",
    "* A2: Ebenso.\n",
    "* A3: Da die Nullmatrix eine Diagonalmatrix ist, gilt auch A3.\n",
    "* A4: Gilt offensichtlich.\n",
    "* S1, S2, S3: Die Multiplikation und Addidtion sind elementweise definiert. Dadurch gelten S1, S2 und S3.\n",
    "\n",
    "g) Die Menge aller harmonischen Schwingungen ist definiert durch Amplitude und Frequenz.\n"
   ]
  },
  {
   "cell_type": "markdown",
   "metadata": {},
   "source": [
    "## Aufgabe 3.2 \n",
    "### Vektorraum-Basis\n",
    "\n",
    "Geben Sie für die Vektorräume aus Aufgabe 3.1 eine Basis und die Dimension."
   ]
  },
  {
   "cell_type": "markdown",
   "metadata": {},
   "source": [
    "* a) Orthonormalbasis (1,0),(0,1) -> Dimension 2.\n",
    "* b) 1 -> Dimension 1\n",
    "* c) f(x) = x, Dimension 1\n",
    "* d) f(x) = x, Dimension 1\n",
    "* e) Dimension = Rang der Matrix (Da Diagonal)"
   ]
  },
  {
   "cell_type": "markdown",
   "metadata": {},
   "source": [
    "## Aufgabe 3.3 \n",
    "### LU-Zerlegung\n",
    "\n",
    "Bestimmen Sie die LU-Zerlegung von\n",
    "\n",
    "$A = \\begin{pmatrix}\n",
    "  4 & 2 & 1\\\\ \n",
    "  2 & 4 & 2\\\\\n",
    "  1 & 2 & 4\n",
    "\\end{pmatrix}$ "
   ]
  },
  {
   "cell_type": "code",
   "execution_count": 35,
   "metadata": {},
   "outputs": [
    {
     "name": "stdout",
     "output_type": "stream",
     "text": [
      "[[1.   0.   0.  ]\n",
      " [0.5  1.   0.  ]\n",
      " [0.25 0.5  1.  ]]\n",
      "[[4.  2.  1. ]\n",
      " [0.  3.  1.5]\n",
      " [0.  0.  3. ]]\n"
     ]
    }
   ],
   "source": [
    "# LU-Zerlegung (ohne Zeilentausch)\n",
    "def LU(A):\n",
    "    m,n = A.shape\n",
    "    L = np.eye(n)\n",
    "    U = A.astype('float')\n",
    "    for k in range(n-1):\n",
    "        for j in range(k+1,m):\n",
    "            L[j,k] = U[j,k]/U[k,k]\n",
    "            U[j,k:] = U[j,k:]-L[j,k]*U[k,k:]\n",
    "    return (L,U)\n",
    "\n",
    "A = np.array([[4,2,1],[2,4,2],[1,2,4]])\n",
    "L, U = LU(A)\n",
    "\n",
    "print(L)\n",
    "print(U)\n"
   ]
  },
  {
   "cell_type": "markdown",
   "metadata": {},
   "source": [
    "## Aufgabe 3.4 \n",
    "### Gauß-Verfahren\n",
    "\n",
    "Implementieren Sie das Gauß-Verfahren und bestimmen Sie damit die unbekannten Verkehrsdichten\n",
    "$x_1, x_2, x_3, x_4$ in folgender Abbildung (s. Skript). Nehmen Sie dazu zusätzlich an, dass $−2x_2+x_4 = 0$\n",
    "ist.\n",
    "\n",
    "<img src=\"files/img/Ü3skizze1.PNG\" alt=\"Drawing\" style=\"width: 350px;\"/>"
   ]
  },
  {
   "cell_type": "markdown",
   "metadata": {},
   "source": [
    "Erstelle LGS mit Hilfe der Knoten:\n",
    "\n",
    "$\n",
    "\\begin{pmatrix}\n",
    "  1 & 0 & 0 & 0\\\\ \n",
    "  1 & -1 & 0 & 0\\\\\n",
    "  0 & 1 & -1 & 0\\\\\n",
    "  0 & 0 & 1 & -1\n",
    "\\end{pmatrix}\\cdot\n",
    "\\begin{pmatrix}\n",
    "  x_1\\\\ \n",
    "  x_2\\\\\n",
    "  x_3\\\\\n",
    "  x_4\n",
    "\\end{pmatrix}=\n",
    "\\begin{pmatrix}\n",
    "  610-450\\\\ \n",
    "  400-640\\\\\n",
    "  600\\\\\n",
    "  -520\n",
    "\\end{pmatrix}$ \n"
   ]
  },
  {
   "cell_type": "code",
   "execution_count": 21,
   "metadata": {},
   "outputs": [
    {
     "name": "stdout",
     "output_type": "stream",
     "text": [
      "a und b Nach Gauß Elimination:\n",
      "array([[ 1.,  0.,  0.,  0.],\n",
      "       [ 0., -1.,  0.,  0.],\n",
      "       [ 0.,  0., -1.,  0.],\n",
      "       [ 0.,  0.,  0., -1.]])\n",
      "array([ 160., -400.,  200., -320.])\n",
      "[160. 400. 200. 320.]\n"
     ]
    }
   ],
   "source": [
    "#Implementierung Gauß Algorithmus (vgl. Übungsblatt 2)\n",
    "def elimination (a, b):\n",
    "    n = a.shape [0]\n",
    "    for i in range(n):                         # n-Maliges durchführen\n",
    "        for j in range (i +1 , n):             # n^2 maliges Durchführen\n",
    "            faktor = a [j, i]/ a[i, i]\n",
    "            b[j] -= b[i]* faktor\n",
    "            for k in range (i , n ):           # n^3 maliges Durchführen\n",
    "                a[j, k] -=a[i, k]*faktor\n",
    "def substitution (a, b):\n",
    "    n = a.shape [0]\n",
    "    x = np.empty(n)\n",
    "    for i in range (n -1 , -1 , -1):\n",
    "        zaehler = b[i]\n",
    "    for j in range (i +1, n):\n",
    "        zaehler -= a[i, j]*x[j]\n",
    "        x[i] = zaehler/a[i, i]\n",
    "    return x\n",
    "\n",
    "a = np.array([[1, 0, 0, 0] ,[1, -1, 0, 0] ,[0, 1, -1, 0],[0, 0, 1, -1]] , dtype = float)\n",
    "b = np.array([160, -240, 600, -520], dtype=float)\n",
    "elimination (a, b)\n",
    "\n",
    "print(\"a und b Nach Gauß Elimination:\")\n",
    "pprint.pprint(a)\n",
    "pprint.pprint(b)\n",
    "print(substitution (a, b))"
   ]
  },
  {
   "cell_type": "markdown",
   "metadata": {},
   "source": [
    "## Aufgabe 3.5 \n",
    "### Simulation mit LU-Zerlegung\n",
    "\n",
    "Das Verkehrsmodell aus Aufgabe 3.4 soll jetzt über einen kompletten Tagesverlauf simuliert werden.\n",
    "Dafür sind die Zu- und Abflüsse folgendermaßen als Funktionen (t in h) gegeben.\n",
    "<img src=\"files/img/Ü3skizze2.PNG\" alt=\"Drawing\" style=\"width: 350px;\"/>\n",
    "Es gilt:\n",
    "\n",
    "$\n",
    "\\begin{align}\n",
    "z_A(t) &= 610 − 100 sin \\Bigl(\\frac{\\pi}{12}t\\Bigl)\\\\\n",
    "a_A(t) &= 450 − 25 sin \\Bigl(\\frac{\\pi}{3}t + 5\\Bigl)\\\\\n",
    "z_B(t) &= 400 − 20 sin \\Bigl(\\frac{\\pi}{3}t - 1\\Bigl)\\\\\n",
    "a_B(t) &= 640 + 50 sin \\Bigl(\\frac{\\pi}{12}t - 7\\Bigl)\\\\\n",
    "z_C(t) &= 600 + 10 sin \\Bigl(\\frac{\\pi}{6}t + 4\\Bigl)\\\\\n",
    "a_D(t) &= zA − aA + zB − aB + zC\n",
    "\\end{align}\n",
    "$\n",
    "\n",
    "Zusätzlich ist: $−2x_2 + x_4 = 0$\n",
    "\n",
    "Gehen Sie für die Simulation folgendermaßen vor:\n",
    "* Notieren Sie das LGS in Abhängigkeit von $t$ in der Form $A·x(t) = b(t)$, mit einer quadratischen\n",
    "Matrix A.\n",
    "* Bestimmen Sie eine LU-Zerlegung der Koeffizientenmatrix $A$. Berechnen Sie die Zerlegung\n",
    "\n",
    "von Hand oder nutzen Sie dazu eine Funktion, die Ihnen z.B. Matlab zur Verfügung stellt.\n",
    "\n",
    "* Werten Sie die rechte Seite b für jede Minute des Tages aus. Dies liefert Ihnen jeweils eine\n",
    "konkrete rechte Seite bi\n",
    "\n",
    "* Lösen Sie mit Hilfe der LU-Zerlegung jedes LGS $A · x = bi$\n",
    "\n",
    "* Plotten Sie die vier Verkehrsflüsse $x_1, x_2, x_3, x_4$ über einen Tagesverlauf.\n",
    "Könnten die Straßen mit den angegebenen Verkehrsdichten als Einbahnstraßen realisiert werden?\n",
    "\n"
   ]
  },
  {
   "cell_type": "code",
   "execution_count": 13,
   "metadata": {},
   "outputs": [
    {
     "name": "stdout",
     "output_type": "stream",
     "text": [
      "A:\n",
      "array([[-1,  0,  0,  1],\n",
      "       [ 1, -1,  0,  0],\n",
      "       [ 0,  1, -1,  0],\n",
      "       [ 0,  0,  1, -1]])\n",
      "P:\n",
      "array([[1., 0., 0., 0.],\n",
      "       [0., 1., 0., 0.],\n",
      "       [0., 0., 1., 0.],\n",
      "       [0., 0., 0., 1.]])\n",
      "L:\n",
      "array([[ 1.,  0.,  0.,  0.],\n",
      "       [-1.,  1.,  0.,  0.],\n",
      "       [-0., -1.,  1.,  0.],\n",
      "       [-0., -0., -1.,  1.]])\n",
      "U:\n",
      "array([[-1.,  0.,  0.,  1.],\n",
      "       [ 0., -1.,  0.,  1.],\n",
      "       [ 0.,  0., -1.,  1.],\n",
      "       [ 0.,  0.,  0.,  0.]])\n"
     ]
    },
    {
     "data": {
      "image/png": "[encoded data removed]",
      "text/plain": [
       "<Figure size 432x288 with 1 Axes>"
      ]
     },
     "metadata": {
      "needs_background": "light"
     },
     "output_type": "display_data"
    }
   ],
   "source": [
    "#scipy array erstellen\n",
    "A = np.array([ [-1, 0, 0, 1], [1, -1, 0, 0], [0, 1, -1, 0], [0, 0, 1, -1] ])\n",
    "#scipy LU Zerlegung\n",
    "P, L, U = scipy.linalg.lu(A)\n",
    "#Ausgabe:\n",
    "print(\"A:\")\n",
    "pprint.pprint(A)\n",
    "print(\"P:\")\n",
    "pprint.pprint(P)\n",
    "print(\"L:\")\n",
    "pprint.pprint(L)\n",
    "print(\"U:\")\n",
    "pprint.pprint(U)\n",
    "\n",
    "pi = 3.14159265\n",
    "#60 Minuten mal 24 Stunden\n",
    "x1 = []\n",
    "x2 = []\n",
    "x3 = []\n",
    "x4 = []\n",
    "for i in range(1440):\n",
    "    #t in Studnen\n",
    "    t  = i/60\n",
    "    za = 610-100*math.sin((pi/12)*t)\n",
    "    aa = 450-25*math.sin((pi/3)*t+5)\n",
    "    zb = 400-20*math.sin((pi/3)*t-1)\n",
    "    ab = 640 + 50*math.sin((pi/12)*t-7)\n",
    "    zc = 600 + 10*math.sin((pi/6)*t+4)\n",
    "    ad = za - aa - zb - ab + zc\n",
    "    b =np.array([aa-za,ab-zb,-zc,ad])\n",
    "\n",
    "    c = np.zeros(4)\n",
    "    #Bestimme c mittels b = Lc\n",
    "    length = len(A)\n",
    "\n",
    "    #finde c Vektor\n",
    "    c = np.linalg.solve(L,b)\n",
    "    #wir wissen, dass die letzte Zeile Nullzeile ist, deswegen ist die Operation legitim\n",
    "    U[-1]=[0,-2,0,1]\n",
    "    c[3]=0\n",
    "    #finde x vektor\n",
    "    x = np.linalg.solve(U,c)\n",
    "    x1.append(x[0])\n",
    "    x2.append(x[1])\n",
    "    x3.append(x[2])\n",
    "    x4.append(x[3])\n",
    "a,=plt.plot(x1, label ='x1')\n",
    "b,=plt.plot(x2, label ='x2')\n",
    "c,=plt.plot(x3, label ='x3')\n",
    "d,=plt.plot(x4, label ='x4')\n",
    "plt.legend(handles=[a, b,c,d])\n",
    "plt.show()\n"
   ]
  },
  {
   "cell_type": "markdown",
   "metadata": {},
   "source": [
    "## Aufgabe 3.6 \n",
    "### Jacobi-Iteration\n",
    "\n",
    "Lösen Sie das LGS\n",
    "\n",
    "$\n",
    "\\begin{align}\n",
    "&4x_1 &+ &x_2 &+ &2x_3 &= &7\\\\\n",
    "&2x_1 &+ &2x_2 &+ &x_3 &= &7\\\\\n",
    "&&&x_2 &+ &2x_3 &= &3\n",
    "\\end{align}\n",
    "$\n",
    "\n",
    "mit Hilfe der Jacobi-Iteration auf 6 Nachkommastellen genau.\n"
   ]
  },
  {
   "cell_type": "code",
   "execution_count": 8,
   "metadata": {},
   "outputs": [
    {
     "name": "stdout",
     "output_type": "stream",
     "text": [
      "A:\n",
      "array([[4, 1, 2],\n",
      "       [2, 2, 1],\n",
      "       [0, 1, 2]])\n",
      "b:\n",
      "array([7, 7, 3])\n",
      "x:\n",
      "array([1.00631714, 2.34382629, 0.33926392])\n"
     ]
    }
   ],
   "source": [
    "#Aus itnernet kopiert.... evtl selbst machen... ist nicht schön\n",
    "def jacobi(A,b,N=25,x=None):\n",
    "    \"\"\"Solves the equation Ax=b via the Jacobi iterative method.\"\"\"\n",
    "    # Create an initial guess if needed                                                                                                                                                            \n",
    "    if x is None:\n",
    "        x = zeros(len(A[0]))\n",
    "\n",
    "    # Create a vector of the diagonal elements of A                                                                                                                                                \n",
    "    # and subtract them from A                                                                                                                                                                     \n",
    "    D = diag(A)\n",
    "    R = A - diagflat(D)\n",
    "\n",
    "    # Iterate for N times                                                                                                                                                                          \n",
    "    for i in range(N):\n",
    "        x = (b - dot(R,x)) / D\n",
    "    return x\n",
    "\n",
    "A = np.array([[4,1,2], [2, 2, 1], [0, 1, 2]])\n",
    "b = np.array([7, 7, 3])\n",
    "guess = array([1,1,1])\n",
    "\n",
    "sol = jacobi(A,b,N=25,x=guess)\n",
    "\n",
    "print(\"A:\")\n",
    "pprint(A)\n",
    "\n",
    "print(\"b:\")\n",
    "pprint(b)\n",
    "\n",
    "print(\"x:\")\n",
    "pprint(sol)"
   ]
  },
  {
   "cell_type": "code",
   "execution_count": null,
   "metadata": {},
   "outputs": [],
   "source": []
  }
 ],
 "metadata": {
  "kernelspec": {
   "display_name": "Python 3",
   "language": "python",
   "name": "python3"
  },
  "language_info": {
   "codemirror_mode": {
    "name": "ipython",
    "version": 3
   },
   "file_extension": ".py",
   "mimetype": "text/x-python",
   "name": "python",
   "nbconvert_exporter": "python",
   "pygments_lexer": "ipython3",
   "version": "3.7.6"
  }
 },
 "nbformat": 4,
 "nbformat_minor": 2
}
